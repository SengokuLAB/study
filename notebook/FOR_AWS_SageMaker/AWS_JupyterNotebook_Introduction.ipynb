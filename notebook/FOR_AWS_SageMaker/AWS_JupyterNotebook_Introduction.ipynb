{
 "cells": [
  {
   "cell_type": "markdown",
   "metadata": {},
   "source": [
    "# AWS Sage maker Introduction\n",
    "* ファイルの読み書きはすべてS3上で実施\n",
    "* 参考：　https://recipe.kc-cloud.jp/archives/10921\n",
    "* https://github.com/awslabs/amazon-sagemaker-examples/blob/master/advanced_functionality/scikit_bring_your_own/scikit_bring_your_own.ipynb"
   ]
  },
  {
   "cell_type": "markdown",
   "metadata": {},
   "source": [
    "## 共通実施事項\n",
    "* sagemakerライブラリのインポート\n",
    "* S3情報の登録\n",
    "* IAMアカウント情報の登録"
   ]
  },
  {
   "cell_type": "markdown",
   "metadata": {},
   "source": [
    "IAMのroleの宣言"
   ]
  },
  {
   "cell_type": "code",
   "execution_count": 138,
   "metadata": {
    "collapsed": true
   },
   "outputs": [],
   "source": [
    "import boto3\n",
    "import re\n",
    "import sagemaker\n",
    "from sagemaker import get_execution_role\n",
    "import pandas as pd\n",
    "import io\n",
    "import os\n",
    "role = get_execution_role()"
   ]
  },
  {
   "cell_type": "markdown",
   "metadata": {},
   "source": [
    "## S3\n",
    "### 登録\n",
    "読み込みと書き込みで用いる変数の指定"
   ]
  },
  {
   "cell_type": "code",
   "execution_count": 139,
   "metadata": {
    "collapsed": true
   },
   "outputs": [],
   "source": [
    "BUCKET = 'yourbucketname' #バケット名を入力\n",
    "inpath = \"file/to/path/\" #入力データまでのパス\n",
    "infile = \"scotlip.csv\" #入力データのファイル名\n",
    "KEY = inpath + infile\n",
    "\n",
    "outpath = \"out/to/path/\"\n",
    "outfile = \"scot_test.csv\"\n",
    "outKEY = outpath + outfile"
   ]
  },
  {
   "cell_type": "markdown",
   "metadata": {},
   "source": [
    "### 読み込み"
   ]
  },
  {
   "cell_type": "code",
   "execution_count": 140,
   "metadata": {
    "collapsed": true
   },
   "outputs": [],
   "source": [
    "# S3からCSVをダウンロード\n",
    "s3 = boto3.client('s3')\n",
    "response = s3.get_object(Bucket=BUCKET, Key=KEY)\n",
    "\n",
    "data = pd.read_csv(io.StringIO(response['Body'].read().decode('utf-8'))) #decode以下で文字コードを指定する"
   ]
  },
  {
   "cell_type": "code",
   "execution_count": 141,
   "metadata": {},
   "outputs": [
    {
     "data": {
      "text/html": [
       "<div>\n",
       "<style scoped>\n",
       "    .dataframe tbody tr th:only-of-type {\n",
       "        vertical-align: middle;\n",
       "    }\n",
       "\n",
       "    .dataframe tbody tr th {\n",
       "        vertical-align: top;\n",
       "    }\n",
       "\n",
       "    .dataframe thead th {\n",
       "        text-align: right;\n",
       "    }\n",
       "</style>\n",
       "<table border=\"1\" class=\"dataframe\">\n",
       "  <thead>\n",
       "    <tr style=\"text-align: right;\">\n",
       "      <th></th>\n",
       "      <th>CODENO</th>\n",
       "      <th>AREA</th>\n",
       "      <th>PERIMETER</th>\n",
       "      <th>RECORD_ID</th>\n",
       "      <th>DISTRICT</th>\n",
       "      <th>NAME</th>\n",
       "      <th>CODE</th>\n",
       "      <th>CANCER</th>\n",
       "      <th>POP</th>\n",
       "      <th>CEXP</th>\n",
       "      <th>AFF</th>\n",
       "    </tr>\n",
       "  </thead>\n",
       "  <tbody>\n",
       "    <tr>\n",
       "      <th>0</th>\n",
       "      <td>6126</td>\n",
       "      <td>9.740020e+08</td>\n",
       "      <td>184951.0</td>\n",
       "      <td>1</td>\n",
       "      <td>1</td>\n",
       "      <td>Skye-Lochalsh</td>\n",
       "      <td>w6126</td>\n",
       "      <td>9</td>\n",
       "      <td>28324</td>\n",
       "      <td>1.38</td>\n",
       "      <td>16</td>\n",
       "    </tr>\n",
       "    <tr>\n",
       "      <th>1</th>\n",
       "      <td>6016</td>\n",
       "      <td>1.461990e+09</td>\n",
       "      <td>178224.0</td>\n",
       "      <td>2</td>\n",
       "      <td>2</td>\n",
       "      <td>Banff-Buchan</td>\n",
       "      <td>w6016</td>\n",
       "      <td>39</td>\n",
       "      <td>231337</td>\n",
       "      <td>8.66</td>\n",
       "      <td>16</td>\n",
       "    </tr>\n",
       "    <tr>\n",
       "      <th>2</th>\n",
       "      <td>6121</td>\n",
       "      <td>1.753090e+09</td>\n",
       "      <td>179177.0</td>\n",
       "      <td>3</td>\n",
       "      <td>3</td>\n",
       "      <td>Caithness</td>\n",
       "      <td>w6121</td>\n",
       "      <td>11</td>\n",
       "      <td>83190</td>\n",
       "      <td>3.04</td>\n",
       "      <td>10</td>\n",
       "    </tr>\n",
       "    <tr>\n",
       "      <th>3</th>\n",
       "      <td>5601</td>\n",
       "      <td>8.985990e+08</td>\n",
       "      <td>128777.0</td>\n",
       "      <td>4</td>\n",
       "      <td>4</td>\n",
       "      <td>Berwickshire</td>\n",
       "      <td>w5601</td>\n",
       "      <td>9</td>\n",
       "      <td>51710</td>\n",
       "      <td>2.53</td>\n",
       "      <td>24</td>\n",
       "    </tr>\n",
       "    <tr>\n",
       "      <th>4</th>\n",
       "      <td>6125</td>\n",
       "      <td>5.109870e+09</td>\n",
       "      <td>580792.0</td>\n",
       "      <td>5</td>\n",
       "      <td>5</td>\n",
       "      <td>Ross-Cromarty</td>\n",
       "      <td>w6125</td>\n",
       "      <td>15</td>\n",
       "      <td>129271</td>\n",
       "      <td>4.26</td>\n",
       "      <td>10</td>\n",
       "    </tr>\n",
       "  </tbody>\n",
       "</table>\n",
       "</div>"
      ],
      "text/plain": [
       "   CODENO          AREA  PERIMETER  RECORD_ID  DISTRICT           NAME   CODE  \\\n",
       "0    6126  9.740020e+08   184951.0          1         1  Skye-Lochalsh  w6126   \n",
       "1    6016  1.461990e+09   178224.0          2         2   Banff-Buchan  w6016   \n",
       "2    6121  1.753090e+09   179177.0          3         3      Caithness  w6121   \n",
       "3    5601  8.985990e+08   128777.0          4         4   Berwickshire  w5601   \n",
       "4    6125  5.109870e+09   580792.0          5         5  Ross-Cromarty  w6125   \n",
       "\n",
       "   CANCER     POP  CEXP  AFF  \n",
       "0       9   28324  1.38   16  \n",
       "1      39  231337  8.66   16  \n",
       "2      11   83190  3.04   10  \n",
       "3       9   51710  2.53   24  \n",
       "4      15  129271  4.26   10  "
      ]
     },
     "execution_count": 141,
     "metadata": {},
     "output_type": "execute_result"
    }
   ],
   "source": [
    "data.head(5)"
   ]
  },
  {
   "cell_type": "code",
   "execution_count": 142,
   "metadata": {},
   "outputs": [
    {
     "data": {
      "text/plain": [
       "0    Skye-Lochalsh\n",
       "1     Banff-Buchan\n",
       "2        Caithness\n",
       "Name: NAME, dtype: object"
      ]
     },
     "execution_count": 142,
     "metadata": {},
     "output_type": "execute_result"
    }
   ],
   "source": [
    "test = data[\"NAME\"]\n",
    "test.head(3)"
   ]
  },
  {
   "cell_type": "markdown",
   "metadata": {},
   "source": [
    "### 書き込み\n",
    "一旦SageMakerの/home上に書き込んだのち、botoを用いてS3に移動。\n",
    "参考　https://qiita.com/is_ryo/items/e16527db5800854cd95f"
   ]
  },
  {
   "cell_type": "code",
   "execution_count": 143,
   "metadata": {
    "collapsed": true
   },
   "outputs": [],
   "source": [
    "test.to_csv(outfile)"
   ]
  },
  {
   "cell_type": "code",
   "execution_count": 144,
   "metadata": {
    "collapsed": true
   },
   "outputs": [],
   "source": [
    "s3 = boto3.resource('s3')\n",
    "bucket = s3.Bucket(BUCKET)\n",
    "bucket.upload_file(outfile, outKEY)"
   ]
  },
  {
   "cell_type": "markdown",
   "metadata": {},
   "source": [
    "### home/上のファイルを削除\n",
    "容量節約のため、必ず行うこと。"
   ]
  },
  {
   "cell_type": "code",
   "execution_count": 148,
   "metadata": {
    "collapsed": true
   },
   "outputs": [],
   "source": [
    "os.remove(outfile)"
   ]
  },
  {
   "cell_type": "markdown",
   "metadata": {},
   "source": [
    "### ライブラリのインストール\n",
    "* 試験的にpyprojライブラリをインストール\n",
    "* 参考：　[公式ガイド](https://docs.aws.amazon.com/ja_jp/sagemaker/latest/dg/nbi-add-external.html)\n",
    "\n",
    "⇒問題なくインストール・インポートに成功　Colab上と同様。"
   ]
  },
  {
   "cell_type": "code",
   "execution_count": 124,
   "metadata": {},
   "outputs": [
    {
     "name": "stdout",
     "output_type": "stream",
     "text": [
      "Collecting pyproj\n",
      "\u001b[?25l  Downloading https://files.pythonhosted.org/packages/29/72/5c1888c4948a0c7b736d10e0f0f69966e7c0874a660222ed0a2c2c6daa9f/pyproj-1.9.5.1.tar.gz (4.4MB)\n",
      "\u001b[K    100% |████████████████████████████████| 4.4MB 9.0MB/s eta 0:00:01\n",
      "\u001b[?25hBuilding wheels for collected packages: pyproj\n",
      "  Running setup.py bdist_wheel for pyproj ... \u001b[?25ldone\n",
      "\u001b[?25h  Stored in directory: /home/ec2-user/.cache/pip/wheels/89/77/ec/a537585d1022dafde0317dd19d33c4a30d4ee61e19f25ebd8e\n",
      "Successfully built pyproj\n",
      "\u001b[31mdistributed 1.21.8 requires msgpack, which is not installed.\u001b[0m\n",
      "Installing collected packages: pyproj\n",
      "Successfully installed pyproj-1.9.5.1\n",
      "\u001b[33mYou are using pip version 10.0.1, however version 18.0 is available.\n",
      "You should consider upgrading via the 'pip install --upgrade pip' command.\u001b[0m\n"
     ]
    }
   ],
   "source": [
    "!pip install pyproj"
   ]
  },
  {
   "cell_type": "code",
   "execution_count": 125,
   "metadata": {
    "collapsed": true
   },
   "outputs": [],
   "source": [
    "import pyproj"
   ]
  }
 ],
 "metadata": {
  "kernelspec": {
   "display_name": "Python 3",
   "language": "python",
   "name": "python3"
  },
  "language_info": {
   "codemirror_mode": {
    "name": "ipython",
    "version": 3
   },
   "file_extension": ".py",
   "mimetype": "text/x-python",
   "name": "python",
   "nbconvert_exporter": "python",
   "pygments_lexer": "ipython3",
   "version": "3.6.3"
  }
 },
 "nbformat": 4,
 "nbformat_minor": 2
}
