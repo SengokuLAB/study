{
 "cells": [
  {
   "cell_type": "markdown",
   "metadata": {},
   "source": [
    "# 概要\n",
    "* Webからファイルをダウンロードするサンプルスクリプト。\n",
    "* スクレイピング対象URLを指定して、for文等と組み合わせて、ファイルを取得しよう。"
   ]
  },
  {
   "cell_type": "markdown",
   "metadata": {},
   "source": [
    "## 対象データ\n",
    "* 国勢調査　小地域集計　東京都\n",
    "    * http://www.e-stat.go.jp/SG1/estat/GL08020103.do?_toGL08020103_&tclassID=000001082833&cycleCode=0&requestSender=estat\n",
    "* 本演習では、第9表をダウンロード\n",
    "\n",
    "## Tips\n",
    "* 動作環境：　Python3\n",
    "```\n",
    "urllib.request.urlretrieve('ダウンロードするファイルのURL', '保存先のパス')\n",
    "```"
   ]
  },
  {
   "cell_type": "code",
   "execution_count": 12,
   "metadata": {},
   "outputs": [],
   "source": [
    "import urllib.request\n"
   ]
  },
  {
   "cell_type": "code",
   "execution_count": 14,
   "metadata": {},
   "outputs": [
    {
     "data": {
      "text/plain": [
       "('./009_13.csv', <http.client.HTTPMessage at 0x1111deeb8>)"
      ]
     },
     "execution_count": 14,
     "metadata": {},
     "output_type": "execute_result"
    }
   ],
   "source": [
    "pref = \"13\"\n",
    "filenum = \"009\"\n",
    "\n",
    "url=\"http://www.e-stat.go.jp/SG1/estat/GL08020103.do?_csvDownload_&fileId=000007947392&releaseCount=1\"\n",
    "outputpath = \"./{}_{}.csv\".format(filenum, pref)\n",
    "\n",
    "urllib.request.urlretrieve(url, outputpath)"
   ]
  }
 ],
 "metadata": {
  "kernelspec": {
   "display_name": "Python 3",
   "language": "python",
   "name": "python3"
  },
  "language_info": {
   "codemirror_mode": {
    "name": "ipython",
    "version": 3
   },
   "file_extension": ".py",
   "mimetype": "text/x-python",
   "name": "python",
   "nbconvert_exporter": "python",
   "pygments_lexer": "ipython3",
   "version": "3.6.1"
  }
 },
 "nbformat": 4,
 "nbformat_minor": 2
}
